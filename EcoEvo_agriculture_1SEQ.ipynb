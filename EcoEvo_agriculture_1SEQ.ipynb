{
 "cells": [
  {
   "cell_type": "markdown",
   "metadata": {},
   "source": [
    "# Eco-evolutionary dynamics in agriculture: a study in crop rotations"
   ]
  },
  {
   "cell_type": "markdown",
   "metadata": {},
   "source": [
    "### Packages"
   ]
  },
  {
   "cell_type": "code",
   "execution_count": 1,
   "metadata": {
    "collapsed": true
   },
   "outputs": [],
   "source": [
    "#!/usr/bin/env python\n",
    "\n",
    "from __future__ import division\n",
    "from subprocess import call\n",
    "from scipy import *\n",
    "from scipy.linalg import eigh as largest_eigh\n",
    "from scipy.integrate import odeint\n",
    "import scipy.integrate as spi\n",
    "import numpy as np\n",
    "from itertools import combinations\n",
    "from itertools import repeat\n",
    "import matplotlib.pyplot as plt\n",
    "import math\n",
    "import io\n",
    "import csv\n",
    "import sys, os\n",
    "import pandas as pd\n",
    "from pylab import *"
   ]
  },
  {
   "cell_type": "markdown",
   "metadata": {},
   "source": [
    "### Parameters"
   ]
  },
  {
   "cell_type": "code",
   "execution_count": 2,
   "metadata": {
    "collapsed": true
   },
   "outputs": [],
   "source": [
    "## For crop rotation cash yield and soil quality\n",
    "\n",
    "q0 = 1 # init soil quality\n",
    "y0 = 0 # init cash yield\n",
    "K = 2 #carrying capacity\n",
    "beta_h1 = -1.5  #soil contribution h1\n",
    "beta_h1_r = -1.5 #soil contribution h1_r\n",
    "beta_h2 = 1 #soil contribution h2\n",
    "y_h1 = 1 #cash contribution h1\n",
    "y_h1_r = 0.9 #cash contribution h1_r\n",
    "y_h2 = 0 #cash contribution h2\n",
    "\n",
    "\n",
    "\n",
    "## For eco-evo dynamics\n",
    "epsilon = 0.5 # pathogen clearance\n",
    "k = 0.1 # cost of resistance\n",
    "mu = 0.1 # transition probability\n",
    "a = 0.5 # GfG proportion\n",
    "sigma = 0.04 # pathogen virulence of p1\n",
    "H_dens = 50 # host density\n",
    "dp = 0.5 # pathogen deathrate\n",
    "\n",
    "\n",
    "\n",
    "## Time (needed for simulation)\n",
    "t_step = 0.005\n",
    "t_last = int(1/t_step)"
   ]
  },
  {
   "cell_type": "markdown",
   "metadata": {},
   "source": [
    "### Infection environment (pathogen yes/no, time of infection)"
   ]
  },
  {
   "cell_type": "code",
   "execution_count": 3,
   "metadata": {},
   "outputs": [
    {
     "name": "stdout",
     "output_type": "stream",
     "text": [
      "pathogen true? 1 = true, 0 = false1\n",
      "infection time?4\n"
     ]
    }
   ],
   "source": [
    "pathogen_true = int(raw_input(\"pathogen true? 1 = true, 0 = false\")) #presence or absence of pathogen\n",
    "infection_time = int(raw_input(\"infection time?\")) # time the pathogen infects\n"
   ]
  },
  {
   "cell_type": "markdown",
   "metadata": {},
   "source": [
    "### Sequence population (create all possible patterns of a certain length)"
   ]
  },
  {
   "cell_type": "code",
   "execution_count": 4,
   "metadata": {
    "collapsed": true
   },
   "outputs": [],
   "source": [
    "num_seq = 1\n",
    "l = 10  #length\n",
    "#write your sequence of interest, as a combination of h1, h2 and h1_r of length l\n",
    "seq = ['h2','h2','h2','h1','h2','h1','h2','h1','h1','h1']"
   ]
  },
  {
   "cell_type": "code",
   "execution_count": 5,
   "metadata": {
    "collapsed": true
   },
   "outputs": [],
   "source": [
    "## binary sequence for each crop type\n",
    "\n",
    "def get_h_seq(seq):\n",
    "    crop_types = ['h1','h2','hr']\n",
    "    seq_elements = seq\n",
    "    binaries = {k:[int(k in v) for v in seq_elements]for k in crop_types}\n",
    "    h1_seq,h2_seq,hr_seq = binaries['h1'],binaries['h2'],binaries['hr']\n",
    "    \n",
    "    return h1_seq,h2_seq,hr_seq\n",
    "\n",
    "h1_seq,h2_seq,hr_seq = get_h_seq(seq)"
   ]
  },
  {
   "cell_type": "markdown",
   "metadata": {},
   "source": [
    "### Transition and fitness matrices (section 2.2)"
   ]
  },
  {
   "cell_type": "code",
   "execution_count": 6,
   "metadata": {
    "collapsed": true
   },
   "outputs": [],
   "source": [
    "def transition_matrix():\n",
    "    d = np.array([\n",
    "    [1 - 2*mu ,mu,0,0,0,mu,0,0,0,0],\n",
    "    [mu,1 - 3*mu,mu,0,0,0,mu,0,0,0],\n",
    "    [0,mu,1 - 3*mu,mu,0,0,0,mu,0,0],\n",
    "    [0,0,mu,1 - 3*mu,mu,0,0,0,mu,0],\n",
    "    [0,0,0,mu,1 - 2*mu,0,0,0,0,mu],\n",
    "    [mu,0,0,0,0,1 - 2*mu,mu,0,0,0],\n",
    "    [0,mu,0,0,0,mu,1 - 3*mu,mu,0,0],\n",
    "    [0,0,mu,0,0,0,mu,1 - 3*mu,mu,0],\n",
    "    [0,0,0,mu,0,0,0,mu,1 - 3*mu,mu],\n",
    "    [0,0,0,0,mu,0,0,0,mu,1 - 2*mu]\n",
    "    ])\n",
    "    # d = np.identity(10) ### in case we don't want any transition between types\n",
    "    return(d)\n",
    "\n",
    "q_matrix = transition_matrix()"
   ]
  },
  {
   "cell_type": "code",
   "execution_count": 7,
   "metadata": {
    "collapsed": true
   },
   "outputs": [],
   "source": [
    "def fitness_matrix():\n",
    "    w_matrix = np.array([[1,0,0],[1.25,0,0],[1.5,0,0],[1.75,0,0],[2,0,0],\n",
    "    [a*(1 - a*k),1 - a*k,0],[a*(1.25 - a*k),1.25 - a*k,0],[a*(1.5 - a*k),1.5 - a*k,0],[a*(1.75 - a*k),1.75 - a*k,0],\n",
    "    [a*(2 - a*k),2 - a*k,0]])\n",
    "\n",
    "    return(w_matrix)\n",
    "\n",
    "w_matrix = fitness_matrix()\n"
   ]
  },
  {
   "cell_type": "markdown",
   "metadata": {},
   "source": [
    "### Eco-Evo dynamics (section 2.2)"
   ]
  },
  {
   "cell_type": "code",
   "execution_count": 8,
   "metadata": {
    "collapsed": true
   },
   "outputs": [],
   "source": [
    "def infection(h1_seq,hr_seq,h2_seq):\n",
    "    def HP_evol(t,init): ## equations for host-pathogen coevolution\n",
    "        h = np.array(init[0:3],dtype='float16')\n",
    "        p = np.array(init[3:13],dtype='float16')\n",
    "        hdot = np.zeros(3)\n",
    "        pdot = np.zeros(10)\n",
    "        \n",
    "        for h_type in range(0,3):    \n",
    "            hdot[h_type] = h[h_type] * np.sum((-sigma * np.multiply(w_matrix[:,h_type], p,dtype='float16')))\n",
    "\n",
    "        for p_type in range(0,10):\n",
    "            pdot[p_type] = np.sum((np.multiply(q_matrix[:,p_type], p,dtype='float16') * np.sum((sigma * np.multiply(w_matrix[p_type,:], h,dtype='float16'))))) - p[p_type]*dp\n",
    "        \n",
    "        ydot = np.append(hdot,pdot)\n",
    "        return(ydot)\n",
    "    \n",
    "    \n",
    "    t_i = 0 #init time (start of season)\n",
    "    t_f = 1 #final time (end of season)\n",
    "    general_ts = []\n",
    "    general_zs = []\n",
    "    z0 = np.zeros(13)\n",
    "    for i in range(0,l):\n",
    "\n",
    "      h1 = H_dens * (h1_seq[i])\n",
    "      hr = H_dens * (hr_seq[i])\n",
    "      h2 = H_dens * (h2_seq[i])\n",
    "      \n",
    "      z0[0:3] = [h1,hr,h2]\n",
    "\n",
    "      if t_i == infection_time and pathogen_true == 1: ## introducing the pathogen at infection time with a density of 1\n",
    "        p1 = 1\n",
    "        z0[3] = p1\n",
    "\n",
    "      ## ODE solver\n",
    "    \n",
    "      t_end = 1\n",
    "      t_start = 0.\n",
    "      t_step = 0.005\n",
    "      t_interval = np.arange(t_start, t_end, t_step)\n",
    "\n",
    "      myode =  spi.ode(HP_evol)\n",
    "      myode.set_integrator('lsoda',nsteps = 500000000)\n",
    "      myode.set_initial_value(z0,t_start)\n",
    "\n",
    "      ts = [0]\n",
    "      zs = [z0]  \n",
    "\n",
    "      while myode.successful() and myode.t < t_end:\n",
    "         myode.integrate(myode.t + t_step)\n",
    "         ts.append(myode.t)\n",
    "         zs.append(myode.y)\n",
    "\n",
    "      z_final = zs[t_last]\n",
    "      #\n",
    "      h1_f = z_final[0]\n",
    "      h1_r_f = z_final[1]\n",
    "      h2_f = z_final[2]\n",
    "      \n",
    "      p = np.zeros(10)\n",
    "      for n in range(0,10):\n",
    "        p[n] = epsilon * z_final[(n + 3)]\n",
    "      \n",
    "      z0[3:13] = p\n",
    "  \n",
    "      t_extra = np.full((t_last + 1,),i)\n",
    "      general_ts.append(ts + t_extra)\n",
    "      general_zs.append(zs)\n",
    "\n",
    "      t_i = t_i + 1  #discrete time increase\n",
    "      t_f = t_f + 1\n",
    "    return general_ts,general_zs\n",
    "\n",
    "ts,zs = infection(h1_seq,hr_seq,h2_seq)\n",
    "\n"
   ]
  },
  {
   "cell_type": "markdown",
   "metadata": {},
   "source": [
    "### Soil quality and cash yield in crop rotation patterns (section 2.1 and 2.3)"
   ]
  },
  {
   "cell_type": "code",
   "execution_count": 9,
   "metadata": {},
   "outputs": [
    {
     "name": "stdout",
     "output_type": "stream",
     "text": [
      "('cash', array([ 0.        ,  0.        ,  0.        ,  0.        ,  1.99505475,\n",
      "        1.99505475,  3.93219854,  3.93219854,  5.87874754,  7.70609428,\n",
      "        8.77694104]))\n",
      "('soil', array([ 1.        ,  1.46211716,  1.90514825,  1.99505475,  1.97802611,\n",
      "        1.99185972,  1.96545461,  1.98715117,  1.94532901,  1.36001236,\n",
      "        0.1157982 ]))\n",
      "('fitness', 8.7769410367727474)\n"
     ]
    }
   ],
   "source": [
    "def getdeltas(seq,zs):  ## section 2.3, delta as the ratio of host at the end of season and initial host density\n",
    "    zs = np.array(zs)\n",
    "    zz = zs[:,t_last]\n",
    "    zz_all = []\n",
    "    for j in range(0,l):\n",
    "        zz_1 = zz[j]\n",
    "        zz_2 = zz_1[0:3]\n",
    "        zz_all.append(zz_2)\n",
    "    zz_all = np.array(zz_all)\n",
    "    x = np.sum(zz_all,axis = 1)    \n",
    "    deltas = x/H_dens \n",
    "    return deltas\n",
    "\n",
    "\n",
    "deltas = getdeltas(seq,zs)\n",
    "\n",
    "\n",
    "def fitness_function(init_cash,init_soil,seq,deltas):\n",
    "\n",
    "    soil_vector = []\n",
    "    cash_vector = []\n",
    "    n_h2 = 0 #n of consecutive cover crops\n",
    "    n_h1_hr = 0 #n of consecutive cash crops\n",
    "    \n",
    "    \n",
    "    soil_seq = np.zeros(l + 1) #vector that will have soil changes\n",
    "    soil_seq[0] = init_soil\n",
    "\n",
    "    cash_seq = np.zeros(l + 1) #vector that will have cash changes\n",
    "    cash_seq[0] = init_cash\n",
    "\n",
    "    for t in range(0,l):\n",
    "        d = deltas[t]      \n",
    "        if seq[t] == 'h2': #soil quality and cash yield for cv crops\n",
    "            n_h2 = n_h2 + 1\n",
    "            n_h1_hr = 0\n",
    "            soil_seq[t + 1] = (K * soil_seq[t] * math.exp(beta_h2 * n_h2 * d)) / (K + soil_seq[t] * (math.exp(beta_h2 * n_h2 * d) - 1))\n",
    "            cash_seq[t + 1] = cash_seq[t] + y_h2 * d * soil_seq[t]\n",
    "        elif seq[t]=='h1': \n",
    "            n_h1_hr = n_h1_hr + 1\n",
    "            n_h2 = 0\n",
    "            soil_seq[t + 1] = (K * soil_seq[t] * math.exp(beta_h1 * n_h1_hr * d)) / (K + soil_seq[t] * (math.exp(beta_h1 * n_h1_hr * d) - 1))\n",
    "            cash_seq[t + 1] = cash_seq[t] + y_h1 * d * soil_seq[t]\n",
    "        elif seq[t]=='hr': \n",
    "            n_h1_hr = n_h1_hr + 1\n",
    "            n_h2 = 0\n",
    "            soil_seq[t + 1] = (K * soil_seq[t] * math.exp(beta_hr * n_h1_hr * d)) / (K + soil_seq[t] * (math.exp(beta_hr * n_h1_hr * d) - 1))\n",
    "            cash_seq[t + 1] = cash_seq[t] + y_hr * d * soil_seq[t]\n",
    "    \n",
    "    fitness = cash_seq[l]\n",
    "    return cash_seq,soil_seq,fitness\n",
    "\n",
    "\n",
    "init_soil = np.full(1,q0)    #init soil is 1\n",
    "init_cash = np.full(1,y0)   #init cash is 0\n",
    "\n",
    "cash_seq,soil_seq,fitness = fitness_function(init_cash,init_soil,seq,deltas)\n",
    "\n",
    "print(\"cash\", cash_seq)\n",
    "print(\"soil\", soil_seq)\n",
    "print(\"fitness\",fitness)"
   ]
  },
  {
   "cell_type": "markdown",
   "metadata": {},
   "source": [
    "### Plots"
   ]
  },
  {
   "cell_type": "code",
   "execution_count": 10,
   "metadata": {},
   "outputs": [
    {
     "data": {
      "image/png": "[encoded data removed]",
      "text/plain": [
       "<matplotlib.figure.Figure at 0x110ea1d50>"
      ]
     },
     "metadata": {},
     "output_type": "display_data"
    }
   ],
   "source": [
    "## soil quality and cash yield\n",
    "\n",
    "t_sc = np.linspace(0,10,11)\n",
    "fig2,ax = plt.subplots()\n",
    "ax.plot(t_sc,np.array(cash_seq).T)\n",
    "ax.plot(t_sc,np.array(soil_seq).T)\n",
    "plt.show()"
   ]
  },
  {
   "cell_type": "code",
   "execution_count": 11,
   "metadata": {},
   "outputs": [
    {
     "data": {
      "image/png": "[encoded data removed]",
      "text/plain": [
       "<matplotlib.figure.Figure at 0x119429c10>"
      ]
     },
     "metadata": {},
     "output_type": "display_data"
    }
   ],
   "source": [
    "## eco evo dynamics\n",
    "\n",
    "t3 = np.vstack(ts).T\n",
    "z = np.array(zs).T\n",
    "\n",
    "h1,hr,h2,p1,p2,p3,p4,p5,p6,p7,p8,p9,p10 = z\n",
    "\n",
    "\n",
    "p_sum = p1 + p2 + p3 + p4 + p5\n",
    "p_sum2 = p6 + p7 + p8 + p9 + p10\n",
    "\n",
    "\n",
    "fig,ax = plt.subplots()\n",
    "\n",
    "plt.yticks(fontname = \"Arial\")\n",
    "plt.xticks(fontname = \"Arial\")\n",
    "plt.tick_params(labelsize=16)\n",
    "\n",
    "ax.plot(t3,h1,label='h1',color='xkcd:orange')\n",
    "ax.plot(t3,hr,label='h1+',color='xkcd:gold')\n",
    "ax.plot(t3,h2,label='h2',color='xkcd:green')\n",
    "\n",
    "ax.plot(t3,p_sum,label='p sum',color='xkcd:silver')\n",
    "ax.plot(t3,p_sum2,label='p_sum+',color='xkcd:brown')\n",
    "\n",
    "ax.set_xlabel('Time')\n",
    "ax.set_ylabel('Host Density')\n",
    "# ax.legend(loc=0,fancybox=True)\n",
    "\n",
    "plt.show()\n"
   ]
  }
 ],
 "metadata": {
  "kernelspec": {
   "display_name": "Python 2",
   "language": "python",
   "name": "python2"
  },
  "language_info": {
   "codemirror_mode": {
    "name": "ipython",
    "version": 2
   },
   "file_extension": ".py",
   "mimetype": "text/x-python",
   "name": "python",
   "nbconvert_exporter": "python",
   "pygments_lexer": "ipython2",
   "version": "2.7.14"
  }
 },
 "nbformat": 4,
 "nbformat_minor": 2
}
