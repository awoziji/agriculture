{
 "cells": [
  {
   "cell_type": "code",
   "execution_count": 4,
   "metadata": {},
   "outputs": [
    {
     "name": "stdout",
     "output_type": "stream",
     "text": [
      "[[ 0.  1.  2.  3.  4.  5.  6.  7.  8.  9.]\n",
      " [ 0.  1.  2.  3.  4.  5.  6.  7.  8.  9.]\n",
      " [ 0.  1.  2.  3.  4.  5.  6.  7.  8.  9.]\n",
      " [ 0.  1.  2.  3.  4.  5.  6.  7.  8.  9.]\n",
      " [ 0.  1.  2.  3.  4.  5.  6.  7.  8.  9.]\n",
      " [ 0.  1.  2.  3.  4.  5.  6.  7.  8.  9.]\n",
      " [ 0.  1.  2.  3.  4.  5.  6.  7.  8.  9.]\n",
      " [ 0.  1.  2.  3.  4.  5.  6.  7.  8.  9.]\n",
      " [ 0.  1.  2.  3.  4.  5.  6.  7.  8.  9.]\n",
      " [ 0.  1.  2.  3.  4.  5.  6.  7.  8.  9.]]\n"
     ]
    },
    {
     "data": {
      "image/png": "[encoded data removed]",
      "text/plain": [
       "<matplotlib.figure.Figure at 0x108f06ed0>"
      ]
     },
     "metadata": {},
     "output_type": "display_data"
    },
    {
     "data": {
      "image/png": "[encoded data removed]",
      "text/plain": [
       "<matplotlib.figure.Figure at 0x108f06550>"
      ]
     },
     "metadata": {},
     "output_type": "display_data"
    }
   ],
   "source": [
    "import glob\n",
    "import pandas as pd\n",
    "import numpy as np\n",
    "import matplotlib.pyplot as plt\n",
    "\n",
    "import heapq, random\n",
    "\n",
    "class myarray(np.ndarray):\n",
    "    def __new__(cls, *args, **kwargs):\n",
    "        return np.array(*args, **kwargs).view(myarray)\n",
    "    def index(self, value):\n",
    "        return np.where(self == value)\n",
    "\n",
    "l = 10\n",
    "num_seq = 1024\n",
    "t_max = l + 1\n",
    "Yield_fin = np.zeros(num_seq+1)\n",
    "Soil_fin = np.zeros(num_seq+1)\n",
    "Vir_fin = np.zeros(num_seq+1)\n",
    "\n",
    "\n",
    "list_data = []\n",
    "matrix1 = np.zeros((10,l))\n",
    "\n",
    "for i in range(0,num_seq):\n",
    "\n",
    "    csv_files = glob.glob(\"out{0}.csv\".format(i+1)) #name of the files \n",
    "    for filename in csv_files:\n",
    "        data = pd.read_csv(filename)\n",
    "        list_data.append(data)\n",
    "        Yield_fin[i] = np.copy(list_data[i].iloc[l,5])\n",
    "        Soil_fin[i] = np.copy(list_data[i].iloc[l,4])\n",
    "        Vir_fin[i] = np.copy(list_data[i].iloc[l,6])\n",
    "\n",
    "\n",
    "ten_seq_max = Yield_fin.argsort()[-10:][::-1]\n",
    "value_seq_max = max(Yield_fin)\n",
    "\n",
    "j = 0\n",
    "for i in ten_seq_max:\n",
    "    matrix1[j] = list_data[i].iloc[0:l,0]\n",
    "    j = j + 1\n",
    "\n",
    "print(matrix1)\n",
    "\n",
    "fig,ax = plt.subplots()\n",
    "plt.matshow(matrix1, fignum=None)\n",
    "plt.show()"
   ]
  },
  {
   "cell_type": "code",
   "execution_count": null,
   "metadata": {
    "collapsed": true
   },
   "outputs": [],
   "source": []
  }
 ],
 "metadata": {
  "kernelspec": {
   "display_name": "Python 2",
   "language": "python",
   "name": "python2"
  },
  "language_info": {
   "codemirror_mode": {
    "name": "ipython",
    "version": 2
   },
   "file_extension": ".py",
   "mimetype": "text/x-python",
   "name": "python",
   "nbconvert_exporter": "python",
   "pygments_lexer": "ipython2",
   "version": "2.7.14"
  }
 },
 "nbformat": 4,
 "nbformat_minor": 2
}
